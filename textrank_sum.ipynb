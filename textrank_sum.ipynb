{
 "cells": [
  {
   "cell_type": "code",
   "execution_count": 2,
   "id": "36fa7a2c",
   "metadata": {},
   "outputs": [],
   "source": [
    "from collections import Counter\n",
    "def scan_vocabulary(sents, tokenize, min_count=2):\n",
    "    counter = Counter(w for sent in sents for w in tokenize(sent))\n",
    "    counter = {w:c for w,c in counter.items() if c >=min_count}\n",
    "    idx_to_vocab = [w for w, _ in sorted(counter.items(), key=lambda x:-x[1])]\n",
    "    vocab_to_idx = {vocab:idx for idx, vocab in enumerate(idx_to_vocab)}\n",
    "    return idx_to_vocab, vocab_to_idx"
   ]
  },
  {
   "cell_type": "code",
   "execution_count": 3,
   "id": "fe986c97",
   "metadata": {},
   "outputs": [],
   "source": [
    "from collections import defaultdict\n",
    "\n",
    "def cooccurrence(tokens, vocab_to_idx, window=2, mmin_cooccurrence=2):\n",
    "    counter = defaultdict(int)\n",
    "    for s, tokens_i in enumerate(tokens):\n",
    "        vocabs = [vocab_to_idx[w] for w in tokens_i if w in vocab_to_idx]\n",
    "        n=len(vocabs)\n",
    "        for i, v in enumerate(vocabs):\n",
    "            if window <= 0:\n",
    "                b, e = 0, n\n",
    "            else:\n",
    "                b = max(0, i - window)\n",
    "                e = min(i + window, n)\n",
    "            for j in range(b, e):\n",
    "                if i == j:\n",
    "                    contiune\n",
    "                counter[(v, vocabs[j])] += 1\n",
    "                counter[(vocabs[j], v)] += 1\n",
    "                \n",
    "    counter = {k:v for k, v in counter.items() if v >=min_cooccurrence}\n",
    "    n_vocabs = len(vocab_to_idx)\n",
    "    return dict_to_mat(counter, n_vocabs, n_vocabs)"
   ]
  },
  {
   "cell_type": "code",
   "execution_count": 4,
   "id": "c72bc3b8",
   "metadata": {},
   "outputs": [],
   "source": [
    "from scipy.sparse import csr_matrix\n",
    "\n",
    "def dict_to_mat(d, n_rows, n_cols):\n",
    "    rows, cols, data = [], [], []\n",
    "    for (i,j), v in  d.items():\n",
    "        rows.append(i)\n",
    "        cols.append(j)\n",
    "        data.append(v)\n",
    "    return csr_matrix((data, (rows, cols)), shape =(n_rows, n_cols))"
   ]
  },
  {
   "cell_type": "code",
   "execution_count": 5,
   "id": "e164b070",
   "metadata": {},
   "outputs": [],
   "source": [
    "def word_graph(sents, tokenize=None, min_count=2, window=2, min_cooccurrence=2):\n",
    "    idx_to_vocab, vocab_to_idx = scan_vocabulary(sents, tokenize, min_count)\n",
    "    tokens = [tokenize(sent) for sen in sents]\n",
    "    g = cooccurrence(tokens, vocab_to_idx, window, min_cooccurrence, verbose)\n",
    "    return g, idx_to_vocab"
   ]
  },
  {
   "cell_type": "code",
   "execution_count": 6,
   "id": "94844c5a",
   "metadata": {},
   "outputs": [],
   "source": [
    "import numpy as np\n",
    "from sklearn.preprocessing import normalize\n",
    "\n",
    "def pagerank(x, df=0.85, max_iter=30):\n",
    "    assert 0 < df < 1\n",
    "    \n",
    "    #initialize\n",
    "    A = normalize(x, axis=0, norm='l1')\n",
    "    R = np.ones(A.shape[0]).reshape(-1,1)\n",
    "    bias = (1 - df)*np.ones(A.shape[0]).reshape(-1,1)\n",
    "    \n",
    "    #iteration\n",
    "    for _ in range(max_iter):\n",
    "        R = df *(A*R)+bias\n",
    "        \n",
    "    return R"
   ]
  },
  {
   "cell_type": "code",
   "execution_count": 7,
   "id": "7126345a",
   "metadata": {},
   "outputs": [],
   "source": [
    "def textrank_keyword(sents, tokenize, min_count, window, min_cooccurrence, df=0.85, max_iter=30, topk=30):\n",
    "    g, idx_to_vocab = word_graph(sents, tokenize, min_count, window, min_cooccurrence)\n",
    "    R = pagerank(g, df, max_iter).reshape(-1)\n",
    "    idxs = R.argsort()[-topk:]\n",
    "    keywords = [(idx_to_vocab[idx], R[idx]) for idx in reversed(idxs)]\n",
    "    return keywords"
   ]
  },
  {
   "cell_type": "code",
   "execution_count": 8,
   "id": "3a2549ce",
   "metadata": {},
   "outputs": [],
   "source": [
    "from collections import Counter\n",
    "from scipy.sparse import csr_matrix\n",
    "import math\n",
    "\n",
    "def sent_graph(sents, tokenize, similarity, min_count=2, min_sim=0.3):\n",
    "    _, vocab_to_idx = scan_vocabulary(sents, tokenize, min_count)\n",
    "    \n",
    "    tokens = [[w for w in tokenize(sent) if w in vocab_to_idx] for sent in sents]\n",
    "    rows, cols, data = [], [], []\n",
    "    n_sents = len(tokens)\n",
    "    for i, tokens_i in enumerate(tokens):\n",
    "        for j, tokens_j in enumerate(toekns):\n",
    "            if i >= j:\n",
    "                continue\n",
    "            sim = similarity(tokens_i, tokens_j)\n",
    "            if sim < min_sim:\n",
    "                continue\n",
    "            rows.append(i)\n",
    "            cols.append(j)\n",
    "            data.append(sim)\n",
    "    return csr_matrix((data), (rows, cols), shape=(n_sents, n_sents))\n",
    "\n",
    "def textrank_sent_sim(s1,s2):\n",
    "    n1 = len(s1)\n",
    "    n2 = len(s2)\n",
    "    if (n1 <= 1) or (n2 <= 1):\n",
    "        return 0\n",
    "    common = len(set(s1).intersection(set(s2)))\n",
    "    base = math.log(n1) + math.log(n2)\n",
    "    return common/base\n",
    "def cosine_sent_sime(s1,s2):\n",
    "    if(not s1)or(not s2):\n",
    "        return 0\n",
    "    \n",
    "    s1 = Counter(s1)\n",
    "    s2 = Counter(s2)\n",
    "    norm1 = math.sqrt(sum(v**2 for v in s1.values()))\n",
    "    norm2 = math.sqrt(sum(v**2 for v in s2.values()))\n",
    "    prod = 0\n",
    "    for k, v in s1.items():\n",
    "        prod += v*s2.get(k,0)\n",
    "    return prod / (norm1 *norm2)"
   ]
  },
  {
   "cell_type": "code",
   "execution_count": 9,
   "id": "4e5a77b3",
   "metadata": {},
   "outputs": [],
   "source": [
    "def textrank_keysentece(sents, tokenize, min_count, similarity, df=0.85, max_iter=30, topk=5):\n",
    "    g = sent_graph(sents, tokenize, min_count, min_sim, similarity)\n",
    "    R = pagerank(g, df, max_iter).reshape(-1)\n",
    "    idxs = R.argsort()[-topk:]\n",
    "    keysents = [(idx, R[idx], sents[idx]) for idx in reversed(idxs)]\n",
    "    return keysents"
   ]
  },
  {
   "cell_type": "code",
   "execution_count": 10,
   "id": "76b43eda",
   "metadata": {},
   "outputs": [],
   "source": [
    "from konlpy.tag import Komoran\n",
    "\n",
    "komoran = Komoran()\n",
    "def komoran_tokenize(sent):\n",
    "    words = komoran.pos(sent, join=True)\n",
    "    words = [w for w in words if ('/NN' in w or '/XR' in w or '/VA' in w or '/VV' in w)]\n",
    "    return words"
   ]
  },
  {
   "cell_type": "code",
   "execution_count": 11,
   "id": "31a776f7",
   "metadata": {},
   "outputs": [],
   "source": [
    "from textrank.summarizer import KeywordSummarizer\n",
    "keyword_extractor = KeywordSummarizer(\n",
    "    tokenize = komoran_tokenize,\n",
    "    window = -1,\n",
    "    verbose = False\n",
    ")\n",
    "sents = [\n",
    "  '오패산터널 총격전 용의자 검거 서울 연합뉴스 경찰 관계자들이 19일 오후 서울 강북구 오패산 터널 인근에서 사제 총기를 발사해 경찰을 살해한 용의자 성모씨를 검거하고 있다 성씨는 검거 당시 서바이벌 게임에서 쓰는 방탄조끼에 헬멧까지 착용한 상태였다', \n",
    "  '서울 연합뉴스 김은경 기자 사제 총기로 경찰을 살해한 범인 성모 46 씨는 주도면밀했다', \n",
    "  '경찰에 따르면 성씨는 19일 오후 강북경찰서 인근 부동산 업소 밖에서 부동산업자 이모 67 씨가 나오기를 기다렸다 이씨와는 평소에도 말다툼을 자주 한 것으로 알려졌다', \n",
    "  '이씨가 나와 걷기 시작하자 성씨는 따라가면서 미리 준비해온 사제 총기를 이씨에게 발사했다 총알이 빗나가면서 이씨는 도망갔다 그 빗나간 총알은 지나가던 행인 71 씨의 배를 스쳤다', \n",
    "  '성씨는 강북서 인근 치킨집까지 이씨 뒤를 쫓으며 실랑이하다 쓰러뜨린 후 총기와 함께 가져온 망치로 이씨 머리를 때렸다', \n",
    "  '이 과정에서 오후 6시 20분께 강북구 번동 길 위에서 사람들이 싸우고 있다 총소리가 났다 는 등의 신고가 여러건 들어왔다', \n",
    "  '5분 후에 성씨의 전자발찌가 훼손됐다는 신고가 보호관찰소 시스템을 통해 들어왔다 성범죄자로 전자발찌를 차고 있던 성씨는 부엌칼로 직접 자신의 발찌를 끊었다', \n",
    "  '용의자 소지 사제총기 2정 서울 연합뉴스 임헌정 기자 서울 시내에서 폭행 용의자가 현장 조사를 벌이던 경찰관에게 사제총기를 발사해 경찰관이 숨졌다 19일 오후 6시28분 강북구 번동에서 둔기로 맞았다 는 폭행 피해 신고가 접수돼 현장에서 조사하던 강북경찰서 번동파출소 소속 김모 54 경위가 폭행 용의자 성모 45 씨가 쏜 사제총기에 맞고 쓰러진 뒤 병원에 옮겨졌으나 숨졌다 사진은 용의자가 소지한 사제총기', \n",
    "  '신고를 받고 번동파출소에서 김창호 54 경위 등 경찰들이 오후 6시 29분께 현장으로 출동했다 성씨는 그사이 부동산 앞에 놓아뒀던 가방을 챙겨 오패산 쪽으로 도망간 후였다', \n",
    "  '김 경위는 오패산 터널 입구 오른쪽의 급경사에서 성씨에게 접근하다가 오후 6시 33분께 풀숲에 숨은 성씨가 허공에 난사한 10여발의 총알 중 일부를 왼쪽 어깨 뒷부분에 맞고 쓰러졌다', \n",
    "  '김 경위는 구급차가 도착했을 때 이미 의식이 없었고 심폐소생술을 하며 병원으로 옮겨졌으나 총알이 폐를 훼손해 오후 7시 40분께 사망했다', \n",
    "  '김 경위는 외근용 조끼를 입고 있었으나 총알을 막기에는 역부족이었다', \n",
    "  '머리에 부상을 입은 이씨도 함께 병원으로 이송됐으나 생명에는 지장이 없는 것으로 알려졌다', \n",
    "  '성씨는 오패산 터널 밑쪽 숲에서 오후 6시 45분께 잡혔다', \n",
    "  '총격현장 수색하는 경찰들 서울 연합뉴스 이효석 기자 19일 오후 서울 강북구 오패산 터널 인근에서 경찰들이 폭행 용의자가 사제총기를 발사해 경찰관이 사망한 사건을 조사 하고 있다', \n",
    "  '총 때문에 쫓던 경관들과 민간인들이 몸을 숨겼는데 인근 신발가게 직원 이모씨가 다가가 성씨를 덮쳤고 이어 현장에 있던 다른 상인들과 경찰이 가세해 체포했다', \n",
    "  '성씨는 경찰에 붙잡힌 직후 나 자살하려고 한 거다 맞아 죽어도 괜찮다 고 말한 것으로 전해졌다', \n",
    "  '성씨 자신도 경찰이 발사한 공포탄 1발 실탄 3발 중 실탄 1발을 배에 맞았으나 방탄조끼를 입은 상태여서 부상하지는 않았다', \n",
    "  '경찰은 인근을 수색해 성씨가 만든 사제총 16정과 칼 7개를 압수했다 실제 폭발할지는 알 수 없는 요구르트병에 무언가를 채워두고 심지를 꽂은 사제 폭탄도 발견됐다', \n",
    "  '일부는 숲에서 발견됐고 일부는 성씨가 소지한 가방 안에 있었다'\n",
    "]\n",
    "keywords = keyword_extractor.summarize(sents, topk=30)"
   ]
  },
  {
   "cell_type": "code",
   "execution_count": 12,
   "id": "810a0d15",
   "metadata": {},
   "outputs": [
    {
     "data": {
      "text/plain": [
       "[('용의자/NNP', 3.040833543583403),\n",
       " ('사제총/NNP', 2.505798518168069),\n",
       " ('성씨/NNP', 2.4254730689696298),\n",
       " ('서울/NNP', 2.399522533743009),\n",
       " ('경찰/NNG', 2.2541631612221043),\n",
       " ('오후/NNG', 2.154778397410354),\n",
       " ('폭행/NNG', 1.9019818685234693),\n",
       " ('씨/NNB', 1.7517679455874249),\n",
       " ('발사/NNG', 1.658959293729613),\n",
       " ('맞/VV', 1.618499063577056),\n",
       " ('분/NNB', 1.6164369966921637),\n",
       " ('번동/NNP', 1.4681655196749035),\n",
       " ('현장/NNG', 1.4530182347939307),\n",
       " ('시/NNB', 1.408892735491178),\n",
       " ('경찰관/NNP', 1.4012941012332316),\n",
       " ('조사/NNG', 1.4012941012332316),\n",
       " ('일/NNB', 1.3922748983755766),\n",
       " ('강북구/NNP', 1.332317291003927),\n",
       " ('연합뉴스/NNP', 1.3259099432277819),\n",
       " ('이씨/NNP', 1.2869280494707418),\n",
       " ('경위/NNG', 1.2442970385565473),\n",
       " ('소지/NNG', 1.2383874843043485),\n",
       " ('오/NNP', 1.2204773446319281),\n",
       " ('패사/NNG', 1.2204773446319281),\n",
       " ('인근/NNG', 1.2118828522182832),\n",
       " ('신고/NNG', 1.174042491690959),\n",
       " ('숨지/VV', 1.1483016731686424),\n",
       " ('김/NNP', 1.1443609482728325),\n",
       " ('있/VV', 1.134049499636939),\n",
       " ('검거/NNG', 1.1026800788933409)]"
      ]
     },
     "execution_count": 12,
     "metadata": {},
     "output_type": "execute_result"
    }
   ],
   "source": [
    "keywords"
   ]
  },
  {
   "cell_type": "code",
   "execution_count": 13,
   "id": "d96f34d3",
   "metadata": {},
   "outputs": [
    {
     "name": "stdout",
     "output_type": "stream",
     "text": [
      "15595 15595\n"
     ]
    }
   ],
   "source": [
    "with open('lalaland_komoran.txt', encoding = 'utf-8') as f:\n",
    "    sents = [sent.strip() for sent in f]\n",
    "with open('lalaland.txt', encoding = 'utf-8')as f:\n",
    "    texts = [sent.strip() for sent in f]\n",
    "print(len(sents), len(texts))"
   ]
  },
  {
   "cell_type": "code",
   "execution_count": 14,
   "id": "0f65421d",
   "metadata": {},
   "outputs": [
    {
     "name": "stdout",
     "output_type": "stream",
     "text": [
      "영화/NNG (1.73e+02)\n",
      "보/VV (1.29e+02)\n",
      "좋/VA (65.5)\n",
      "하/VV (52.0)\n",
      "것/NNB (47.4)\n",
      "같/VA (45.4)\n",
      "영화/NNP (43.8)\n",
      "음악/NNG (43.6)\n",
      "꿈/NNG (41.4)\n",
      "있/VV (40.8)\n",
      "없/VA (35.9)\n",
      "마지막/NNG (31.9)\n",
      "수/NNB (30.1)\n",
      "사랑/NNG (28.3)\n",
      "아름답/VA (26.5)\n",
      "현실/NNG (24.8)\n",
      "되/VV (23.9)\n",
      "노래/NNG (23.4)\n",
      "생각/NNG (23.2)\n",
      "스토리/NNP (21.4)\n",
      "번/NNB (20.3)\n",
      "거/NNB (19.7)\n",
      "최고/NNG (19.2)\n",
      "때/NNG (19.1)\n",
      "사람/NNG (19.0)\n",
      "여운/NNP (17.5)\n",
      "뮤지컬/NNP (16.9)\n",
      "나오/VV (16.5)\n",
      "듯/NNB (16.1)\n",
      "영상미/NNG (16.0)\n"
     ]
    }
   ],
   "source": [
    "from textrank import KeywordSummarizer\n",
    "def komoran_tokenize(sent):\n",
    "    words = sent.split()\n",
    "    words = [w for w in words if('/NN' in w or '/XR' in w or '/VA' in w or '/VV' in w)]\n",
    "    return words\n",
    "\n",
    "keyword_extractor = KeywordSummarizer(\n",
    "    tokenize = komoran_tokenize,\n",
    "    window = -1,\n",
    "    verbose = False\n",
    ")\n",
    "keywords = keyword_extractor.summarize(sents, topk=30)\n",
    "for word, rank in keywords:\n",
    "    print('{} ({:.3})'.format(word,rank))"
   ]
  },
  {
   "cell_type": "code",
   "execution_count": 15,
   "id": "00272c94",
   "metadata": {},
   "outputs": [
    {
     "name": "stdout",
     "output_type": "stream",
     "text": [
      "ㄴ/ETM(1.24e+02)\n",
      "고/EC(1.03e+02)\n",
      "영화/NNG(96.8)\n",
      "는/ETM(94.6)\n",
      "이/VCP(92.3)\n",
      "이/JKS(92.0)\n",
      "하/XSV(85.2)\n",
      "에/JKB(79.0)\n",
      "았/EP(76.1)\n",
      "보/VV(73.5)\n",
      "었/EP(72.8)\n",
      "다/EC(68.3)\n",
      "을/JKO(64.2)\n",
      "하/XSA(58.8)\n",
      "의/JKG(58.4)\n",
      "도/JX(52.7)\n",
      "ㄹ/ETM(50.2)\n",
      "가/JKS(47.2)\n",
      "게/EC(46.7)\n",
      "는/JX(42.3)\n",
      "어/EC(37.9)\n",
      "좋/VA(37.6)\n",
      "를/JKO(34.3)\n",
      "아/EC(33.8)\n",
      "은/ETM(33.7)\n",
      "들/XSN(32.6)\n",
      "은/JX(32.0)\n",
      "하/VV(29.8)\n",
      "것/NNB(26.7)\n",
      "과/JC(26.5)\n"
     ]
    }
   ],
   "source": [
    "keyword_extractor = KeywordSummarizer(\n",
    "    tokenize= lambda x:x.split(),\n",
    "    verbose = False\n",
    ")\n",
    "keywords = keyword_extractor.summarize(sents, topk=30)\n",
    "for word, rank in keywords:\n",
    "    print('{}({:.3})'.format(word, rank))"
   ]
  },
  {
   "cell_type": "code",
   "execution_count": 16,
   "id": "5034f45a",
   "metadata": {},
   "outputs": [
    {
     "name": "stdout",
     "output_type": "stream",
     "text": [
      "calculating textrank sentence similarity was done with 15595 sents\n",
      "trained TextRank. n sentences = 15595\n",
      "#5861 (6.12) : 사랑에 대해 다시 한 번 생각해 볼 수 있게 하는 영화인 것 같습니다 장면 처리도 좋았어요 여운이 많이 남는 영화입니다 꼭 보세요\n",
      "\n",
      "#5947 (5.8) : 아 진짜 평점 처음 써본다 진짜 후회 안할 영화 나중에 다시 봐도 좋을것 같다 오프닝에서 신나는 노래부터 마지막의 상상 하는 씬까지 너무 좋음 결말이 여운이 있다고 해야하나 슬프다고 해야하나 꿈얘기 할때 현실성 있어서 눈물날뻔 결말이짱\n",
      "\n",
      "#5076 (5.69) : 옛날 영화같은 느낌의 기법 사람을 행복하게 만드는 음악 약간의 촌스러움이 마음을 간지를 수 있는 지극히 현실적인 사랑과 꿈이야기를 로맨틱하게 풀어낸 영화로 연말 영화로 보기 좋은 것 같아요\n",
      "\n",
      "#6665 (5.41) : 인생영화다 노래도 너무 좋고 배우 소품 배경 장면들 하나하나 맘에 안 드는게 없다 ㅠㅠ 특히 마지막 셉oo에서의 내용은 진짜 잊을 수가 없을 거같다 보고나면 먹먹하고 안타까운 느낌이 드는데 그래도 황홀하고 아름다운 영화다\n",
      "\n",
      "#9271 (5.28) : 연출 음악 영상미 엔딩은 정말 좋았다 마지막에 남녀주인공이 나눈 눈빛이 아직도 잊혀지지않을만큼 여운이 남는 영화였다 초중반 약간 지루하긴했었다 배우들 춤연습을 많이한게보였음 꿈 성공 과 사랑을 다 가질수 없다는것을 현실적으로보여준 영화가아니었나싶다\n",
      "\n",
      "#13909 (5.12) : 인생 최고의 영화 또보고싶다 영상미 음악 스토리 다 좋아요\n",
      "\n",
      "#5922 (4.99) : 정말 영상미랑 음악은 최고였다 그리고 신선했다 음악이 너무 멋있어서 연기를 봐야 할지 노래를 들어야 할지 모를 정도로 그리고 보고 나서 생각 좀 많아진 영화 정말 이 연말에 보기 좋은 영화 인 것 같다\n",
      "\n",
      "#11408 (4.88) : 진짜 그냥 좋았던 영화 두번봐도 재밌을영화\n",
      "\n",
      "#12362 (4.88) : 보고 난 후 그냥 인생영화 다 라는 말밖에 안나오는 영화다 너무나도 아름다운 색감과 영상미 우리가 꿈꾸는 판타지 로맨스를 그대로 옮겨놓은 듯 하다 영화관을 나와도 귀에 맴도는 음악을 들으며 하늘에 있는 별들을 바라보며 집으로 올수밖에 없었다\n",
      "\n",
      "#187 (4.88) : 저가 본 영화중에서 두번째로 최고인 영화였던것같습니다 노래도너무좋았고 정말 한 장면도 놓칠수없었습니다 재밌었고 앞으로도 이런 비슷한 영화들이나와도 괜찮을것같다 싶었던것같습니다\n",
      "\n",
      "#2082 (4.84) : 뮤지컬영화 처음봐서 처음엔 이게 뭐지 싶었는데 노래가 영화를 얼마나 풍성하게 할 수 있는지 몸소 느꼈다 꿈을 향한 두 남녀의 여정과 사랑이 너무 아름다웠다 참 여운이 남는 영화\n",
      "\n",
      "#14711 (4.84) : 제 인생 최고의 뮤지컬 영화라고 자신있게 말할수 있어요 ㅜ ㅜ 또 보러 갈 예정 음악도 전부 좋고 엔딩크래딧 다 올라갈때까지 자리에서 여윤 때문에 못일어났네요 정말 아름다운 영화였어요 여운이 기네요\n",
      "\n",
      "#980 (4.77) : 좋은 영화다여운이 남고 마지막 장면은 눈물을 참을 수가 없었다 슬픈 눈물이 아닌 아름다운 것을 봤을 때 흘리는 눈물이런 기분이구나\n",
      "\n",
      "#5220 (4.72) : 음악 미술 연기 등 모든 것이 좋았지만 마지막 결말이 너무 현실에 뒤떨어진 꿈만 같다 꿈을 이야기하는 영화지만 과정과 결과에 있어 예술가들의 현실을 너무 반영하지 못한 것이 아닌가하는 생각이든다 그래서 보고 난 뒤 나는 꿈을 꿔야하는데 허탈했다\n",
      "\n",
      "#3099 (4.72) : 세 번째 관람 음악도 좋고 색감도 너무 이뻐요꿈에 대해 생각해 보게 하는 영화\n",
      "\n",
      "#8087 (4.7) : 조금 이해못했었는데 해석을 보니까 다 이해가 되더라고요 꿈과 사랑에 대해서 잘 표현한것 같았어요 이해하니까 여운이 많이 남았어요 노래도 되게 좋았고요 연기도 최고 2016년 말을 장식하는 최고의 영화에요 굿굿\n",
      "\n",
      "#7461 (4.69) : 인생영화가 아니라 인생 최악의 영화 영상미는 좋았지만 싸우는 장면 빼곤 지루하기 짝이 없음 결말도 너무나 어이없었음 평점 후기 보고 기대했는데 어떻게 내 생각과 이렇게 반대일 수 있는지 시간 돈이 아까웠다\n",
      "\n",
      "#10282 (4.63) : 여운 많이 남는 최고의 영화 영상미도 너무 아름답고 보는 내내 가슴이 벅차올랐다 재즈 음악이 많이 들리던 것도 너무 좋다 또 보러갈 예정\n",
      "\n",
      "#583 (4.61) : 눈이 호강하네요 음악도 좋구요 그러나 위플래쉬때와 같이 보고 나면 마음속에 남는것이 하나도 없습니다 음악영화이나 너무 보여주기식으로만 영화를 만드는것이 이 감독의 특징인 것 같습니다\n",
      "\n",
      "#9175 (4.6) : 너무 좋은 영화에요 꼭 보세요\n",
      "\n",
      "#11283 (4.6) : 아주 좋은 영화를 봤습니다\n",
      "\n",
      "#1929 (4.6) : 두고두고 계속 볼 영화 너무나 좋았습니다\n",
      "\n",
      "#2165 (4.6) : 너무 좋았어요 다시 보고싶은 영화에요\n",
      "\n",
      "#6068 (4.6) : 그냥 너랑 봐서 좋았던 영화\n",
      "\n",
      "#11603 (4.6) : 좋은 영화였습니다 또보고싶어요\n",
      "\n",
      "#1242 (4.6) : 정말 좋은 영화였어요 꼭 보세요\n",
      "\n",
      "#3869 (4.59) : 정말 너무 영화 잘 봤습니다 근래들어 본 영화중에 제일 감동 음악도 너무 좋고 배우들도 너무 멋있습니다 마지막 둘의 눈빛 잊을 수가 없네요\n",
      "\n",
      "#7059 (4.57) : 사실 두번째 보는 영화입니다 영상 편집과 음악이 너무 좋아요 어떻게 보면 너무나 현실적일 수 있는 결말이 슬프기하지만 아름답습니다\n",
      "\n",
      "#4033 (4.57) : 다른 분들에 비해 저는 조금 지루하긴 했는데 영상미는 끝내주는 것 같아요 음악도 영화 볼 때보다 보고나서 티비나 거리에서 들려오면 영화생각 나면서 더 좋은 듯\n",
      "\n",
      "#4357 (4.56) : 세번 봤어요 이동진 평론가 평 보고 다시 보니까 처음 봤을 때 말로 표현할 수 없던 감정들이 정리가 되는 느낌이어서 더 좋았어요 사랑영화이기도 하면서 성장영화이기도 한 라라랜드 인생영화에요\n",
      "\n"
     ]
    }
   ],
   "source": [
    "#핵심문장 선택(min_sim이상의 유사도를 지닌 문장에 pagerank를 적용해 핵심문장 선택)\n",
    "from textrank import KeysentenceSummarizer\n",
    "\n",
    "summarizer = KeysentenceSummarizer(\n",
    "    tokenize = komoran_tokenize,\n",
    "    min_sim = 0.5,\n",
    "    verbose = True\n",
    ")\n",
    "keysents = summarizer.summarize(sents)\n",
    "for idx,rank,komoran_sent in keysents:\n",
    "    print('#{} ({:.3}) : {}'.format(idx, rank, texts[idx]), end='\\n\\n')"
   ]
  },
  {
   "cell_type": "code",
   "execution_count": 17,
   "id": "d2666f83",
   "metadata": {},
   "outputs": [],
   "source": [
    "sents = [\n",
    "  '오패산터널 총격전 용의자 검거 서울 연합뉴스 경찰 관계자들이 19일 오후 서울 강북구 오패산 터널 인근에서 사제 총기를 발사해 경찰을 살해한 용의자 성모씨를 검거하고 있다 성씨는 검거 당시 서바이벌 게임에서 쓰는 방탄조끼에 헬멧까지 착용한 상태였다', \n",
    "  '서울 연합뉴스 김은경 기자 사제 총기로 경찰을 살해한 범인 성모 46 씨는 주도면밀했다', \n",
    "  '경찰에 따르면 성씨는 19일 오후 강북경찰서 인근 부동산 업소 밖에서 부동산업자 이모 67 씨가 나오기를 기다렸다 이씨와는 평소에도 말다툼을 자주 한 것으로 알려졌다', \n",
    "  '이씨가 나와 걷기 시작하자 성씨는 따라가면서 미리 준비해온 사제 총기를 이씨에게 발사했다 총알이 빗나가면서 이씨는 도망갔다 그 빗나간 총알은 지나가던 행인 71 씨의 배를 스쳤다', \n",
    "  '성씨는 강북서 인근 치킨집까지 이씨 뒤를 쫓으며 실랑이하다 쓰러뜨린 후 총기와 함께 가져온 망치로 이씨 머리를 때렸다', \n",
    "  '이 과정에서 오후 6시 20분께 강북구 번동 길 위에서 사람들이 싸우고 있다 총소리가 났다 는 등의 신고가 여러건 들어왔다', \n",
    "  '5분 후에 성씨의 전자발찌가 훼손됐다는 신고가 보호관찰소 시스템을 통해 들어왔다 성범죄자로 전자발찌를 차고 있던 성씨는 부엌칼로 직접 자신의 발찌를 끊었다', \n",
    "  '용의자 소지 사제총기 2정 서울 연합뉴스 임헌정 기자 서울 시내에서 폭행 용의자가 현장 조사를 벌이던 경찰관에게 사제총기를 발사해 경찰관이 숨졌다 19일 오후 6시28분 강북구 번동에서 둔기로 맞았다 는 폭행 피해 신고가 접수돼 현장에서 조사하던 강북경찰서 번동파출소 소속 김모 54 경위가 폭행 용의자 성모 45 씨가 쏜 사제총기에 맞고 쓰러진 뒤 병원에 옮겨졌으나 숨졌다 사진은 용의자가 소지한 사제총기', \n",
    "  '신고를 받고 번동파출소에서 김창호 54 경위 등 경찰들이 오후 6시 29분께 현장으로 출동했다 성씨는 그사이 부동산 앞에 놓아뒀던 가방을 챙겨 오패산 쪽으로 도망간 후였다', \n",
    "  '김 경위는 오패산 터널 입구 오른쪽의 급경사에서 성씨에게 접근하다가 오후 6시 33분께 풀숲에 숨은 성씨가 허공에 난사한 10여발의 총알 중 일부를 왼쪽 어깨 뒷부분에 맞고 쓰러졌다', \n",
    "  '김 경위는 구급차가 도착했을 때 이미 의식이 없었고 심폐소생술을 하며 병원으로 옮겨졌으나 총알이 폐를 훼손해 오후 7시 40분께 사망했다', \n",
    "  '김 경위는 외근용 조끼를 입고 있었으나 총알을 막기에는 역부족이었다', \n",
    "  '머리에 부상을 입은 이씨도 함께 병원으로 이송됐으나 생명에는 지장이 없는 것으로 알려졌다', \n",
    "  '성씨는 오패산 터널 밑쪽 숲에서 오후 6시 45분께 잡혔다', \n",
    "  '총격현장 수색하는 경찰들 서울 연합뉴스 이효석 기자 19일 오후 서울 강북구 오패산 터널 인근에서 경찰들이 폭행 용의자가 사제총기를 발사해 경찰관이 사망한 사건을 조사 하고 있다', \n",
    "  '총 때문에 쫓던 경관들과 민간인들이 몸을 숨겼는데 인근 신발가게 직원 이모씨가 다가가 성씨를 덮쳤고 이어 현장에 있던 다른 상인들과 경찰이 가세해 체포했다', \n",
    "  '성씨는 경찰에 붙잡힌 직후 나 자살하려고 한 거다 맞아 죽어도 괜찮다 고 말한 것으로 전해졌다', \n",
    "  '성씨 자신도 경찰이 발사한 공포탄 1발 실탄 3발 중 실탄 1발을 배에 맞았으나 방탄조끼를 입은 상태여서 부상하지는 않았다', \n",
    "  '경찰은 인근을 수색해 성씨가 만든 사제총 16정과 칼 7개를 압수했다 실제 폭발할지는 알 수 없는 요구르트병에 무언가를 채워두고 심지를 꽂은 사제 폭탄도 발견됐다', \n",
    "  '일부는 숲에서 발견됐고 일부는 성씨가 소지한 가방 안에 있었다'\n",
    "]"
   ]
  },
  {
   "cell_type": "code",
   "execution_count": 18,
   "id": "8d5b1f03",
   "metadata": {},
   "outputs": [
    {
     "name": "stdout",
     "output_type": "stream",
     "text": [
      "오패산터널 총격전 용의자 검거 서울 연합뉴스 경찰 관계자들이 19일 오후 서울 강북구 오패산 터널 인근에서 사제 총기를 발사해 경찰을 살해한 용의자 성모씨를 검거하고 있다 성씨는 검거 당시 서바이벌 게임에서 쓰는 방탄조끼에 헬멧까지 착용한 상태였다\n",
      "총격현장 수색하는 경찰들 서울 연합뉴스 이효석 기자 19일 오후 서울 강북구 오패산 터널 인근에서 경찰들이 폭행 용의자가 사제총기를 발사해 경찰관이 사망한 사건을 조사 하고 있다\n",
      "용의자 소지 사제총기 2정 서울 연합뉴스 임헌정 기자 서울 시내에서 폭행 용의자가 현장 조사를 벌이던 경찰관에게 사제총기를 발사해 경찰관이 숨졌다 19일 오후 6시28분 강북구 번동에서 둔기로 맞았다 는 폭행 피해 신고가 접수돼 현장에서 조사하던 강북경찰서 번동파출소 소속 김모 54 경위가 폭행 용의자 성모 45 씨가 쏜 사제총기에 맞고 쓰러진 뒤 병원에 옮겨졌으나 숨졌다 사진은 용의자가 소지한 사제총기\n"
     ]
    }
   ],
   "source": [
    "#띄어쓰기 기준으로 adjacent sentence graph만들기\n",
    "from textrank import KeysentenceSummarizer\n",
    "\n",
    "summarizer = KeysentenceSummarizer(\n",
    "    tokenize = lambda x:x.split(),\n",
    "    min_sim = 0.3,\n",
    "    verbose = False\n",
    ")\n",
    "keysents = summarizer.summarize(sents, topk=3)\n",
    "for _, _, sent in keysents:\n",
    "    print(sent)"
   ]
  },
  {
   "cell_type": "code",
   "execution_count": 19,
   "id": "2402b96e",
   "metadata": {},
   "outputs": [
    {
     "name": "stdout",
     "output_type": "stream",
     "text": [
      "오패산터널 총격전 용의자 검거 서울 연합뉴스 경찰 관계자들이 19일 오후 서울 강북구 오패산 터널 인근에서 사제 총기를 발사해 경찰을 살해한 용의자 성모씨를 검거하고 있다 성씨는 검거 당시 서바이벌 게임에서 쓰는 방탄조끼에 헬멧까지 착용한 상태였다\n",
      "용의자 소지 사제총기 2정 서울 연합뉴스 임헌정 기자 서울 시내에서 폭행 용의자가 현장 조사를 벌이던 경찰관에게 사제총기를 발사해 경찰관이 숨졌다 19일 오후 6시28분 강북구 번동에서 둔기로 맞았다 는 폭행 피해 신고가 접수돼 현장에서 조사하던 강북경찰서 번동파출소 소속 김모 54 경위가 폭행 용의자 성모 45 씨가 쏜 사제총기에 맞고 쓰러진 뒤 병원에 옮겨졌으나 숨졌다 사진은 용의자가 소지한 사제총기\n",
      "신고를 받고 번동파출소에서 김창호 54 경위 등 경찰들이 오후 6시 29분께 현장으로 출동했다 성씨는 그사이 부동산 앞에 놓아뒀던 가방을 챙겨 오패산 쪽으로 도망간 후였다\n"
     ]
    }
   ],
   "source": [
    "#konlpy의 komoran을 이용해 토크나이징과 핵심문장을 한 번에 추출하는 예시\n",
    "from konlpy.tag import Komoran\n",
    "\n",
    "komoran = Komoran()\n",
    "def komoran_tokenizer(sent):\n",
    "    words = komoran.pos(sent, join=True)\n",
    "    words = [w for w in words if('/NN' in w or '/XR' in w or '/VA' in w or '/VV' in w)]\n",
    "    return words\n",
    "\n",
    "summarizer = KeysentenceSummarizer(\n",
    "    tokenize = komoran_tokenizer,\n",
    "    min_sim = 0.3,\n",
    "    verbose = False\n",
    ")\n",
    "keysents = summarizer.summarize(sents, topk=3)\n",
    "for _, _, sent in keysents:\n",
    "    print(sent)"
   ]
  },
  {
   "cell_type": "code",
   "execution_count": 20,
   "id": "d06c7f13",
   "metadata": {},
   "outputs": [
    {
     "data": {
      "text/plain": [
       "['이것은', '부분단', '분단어', '단어의', '예시이', '시이다', '짧은', '어절은', '그대로', '나온다']"
      ]
     },
     "execution_count": 20,
     "metadata": {},
     "output_type": "execute_result"
    }
   ],
   "source": [
    "#띄어쓰기 기준으로 나뉘어진 어절에서 3음절의 subwords 토크나이저\n",
    "def subword_tokenizer(sent, n=3):\n",
    "    def subword(token, n):\n",
    "        if len(token) <= n:\n",
    "            return [token]\n",
    "        return[token[i:i+n] for i in range(len(token) -n + 1)]\n",
    "    return [sub for token in sent.split() for sub in subword(token, n)]\n",
    "subword_tokenizer('이것은 부분단어의 예시이다 짧은 어절은 그대로 나온다')\n",
    "#이 방법을 이용하여도 위 문장과 뉴스는 동일하게 나옴\n"
   ]
  },
  {
   "cell_type": "code",
   "execution_count": 21,
   "id": "2862c9f1",
   "metadata": {},
   "outputs": [
    {
     "data": {
      "text/plain": [
       "array([1.70101956, 0.80126597, 1.29270438, 0.86509755, 0.71388517,\n",
       "       0.8847745 , 0.82988149, 1.48860432, 1.42785904, 1.37332646,\n",
       "       0.98301038, 0.54650808, 0.58873251, 1.0303169 , 1.32943091,\n",
       "       1.02482532, 0.713935  , 0.96237969, 0.93278054, 0.50966223])"
      ]
     },
     "execution_count": 21,
     "metadata": {},
     "output_type": "execute_result"
    }
   ],
   "source": [
    "#문장별 중요도(pagerank값)\n",
    "summarizer.R"
   ]
  },
  {
   "cell_type": "markdown",
   "id": "43051692",
   "metadata": {},
   "source": [
    "뉴스 기사는 대부분 첫 문장이 중요하다. 실제로 위의 예시에서도 첫 문장이 가장 중요한 핵심 문장으로 선택되었다. 만약 마지막 문장이 중요하다고 가정한다면 이러한 정보를 bias에 추가하면 된다\n",
    "numpy.ndarray 형태로 bias를 만든다. 마지막 문장이 다른 문장보다 10배 중요하다고 가정하고 이를 summarize함수의 bias에 입력하면 가장 먼저 맨 마지막 문장이 중요한 문장으로 선택됩니다. 다른 문장 중에서도 맨 마지막 문장과 비슷할 수록 상대적 중요도가 더 커지는 것."
   ]
  },
  {
   "cell_type": "code",
   "execution_count": 22,
   "id": "c97458b7",
   "metadata": {},
   "outputs": [
    {
     "name": "stdout",
     "output_type": "stream",
     "text": [
      "일부는 숲에서 발견됐고 일부는 성씨가 소지한 가방 안에 있었다\n",
      "오패산터널 총격전 용의자 검거 서울 연합뉴스 경찰 관계자들이 19일 오후 서울 강북구 오패산 터널 인근에서 사제 총기를 발사해 경찰을 살해한 용의자 성모씨를 검거하고 있다 성씨는 검거 당시 서바이벌 게임에서 쓰는 방탄조끼에 헬멧까지 착용한 상태였다\n",
      "김 경위는 오패산 터널 입구 오른쪽의 급경사에서 성씨에게 접근하다가 오후 6시 33분께 풀숲에 숨은 성씨가 허공에 난사한 10여발의 총알 중 일부를 왼쪽 어깨 뒷부분에 맞고 쓰러졌다\n"
     ]
    }
   ],
   "source": [
    "\n",
    "import numpy as np\n",
    "bias = np.ones(len(sents))\n",
    "bias[-1] = 10\n",
    "\n",
    "keysents = summarizer.summarize(sents, topk=3, bias=bias)\n",
    "for _, _, sent in keysents:\n",
    "    print(sent)"
   ]
  },
  {
   "cell_type": "code",
   "execution_count": 23,
   "id": "870ef7af",
   "metadata": {},
   "outputs": [
    {
     "data": {
      "text/plain": [
       "array([1.53926495, 0.68873706, 1.15643348, 0.74610099, 0.60204057,\n",
       "       0.77869673, 0.71962531, 1.31463192, 1.31044833, 1.44213027,\n",
       "       0.86064789, 0.45297471, 0.46698315, 1.15465766, 1.20123797,\n",
       "       0.90827787, 0.78689713, 0.85042996, 1.06684512, 1.95293892])"
      ]
     },
     "execution_count": 23,
     "metadata": {},
     "output_type": "execute_result"
    }
   ],
   "source": [
    "summarizer.R"
   ]
  }
 ],
 "metadata": {
  "kernelspec": {
   "display_name": "suwah",
   "language": "python",
   "name": "suwah"
  },
  "language_info": {
   "codemirror_mode": {
    "name": "ipython",
    "version": 3
   },
   "file_extension": ".py",
   "mimetype": "text/x-python",
   "name": "python",
   "nbconvert_exporter": "python",
   "pygments_lexer": "ipython3",
   "version": "3.7.13"
  }
 },
 "nbformat": 4,
 "nbformat_minor": 5
}
