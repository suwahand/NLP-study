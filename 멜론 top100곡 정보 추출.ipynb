{
 "cells": [
  {
   "cell_type": "code",
   "execution_count": 1,
   "id": "a8ddab86",
   "metadata": {},
   "outputs": [
    {
     "name": "stderr",
     "output_type": "stream",
     "text": [
      "[WDM] - Downloading: 100%|████████████████████████████████████████████████████████| 6.68M/6.68M [00:01<00:00, 6.97MB/s]\n",
      "C:\\Users\\98083\\anaconda3\\envs\\suwah\\lib\\site-packages\\ipykernel_launcher.py:5: DeprecationWarning: executable_path has been deprecated, please pass in a Service object\n",
      "  \"\"\"\n"
     ]
    }
   ],
   "source": [
    "import pandas as pd\n",
    "from selenium import webdriver\n",
    "from webdriver_manager.chrome import ChromeDriverManager\n",
    "\n",
    "driver = webdriver.Chrome(ChromeDriverManager().install())\n",
    "#https://ddolcat.tistory.com/674  참조 , 셀레니엄 버전 문제해결\n",
    "import time\n",
    "from tqdm.notebook import tqdm\n",
    "from selenium.webdriver.common.by import By\n",
    "\n",
    "driver.get('http://www.melon.com')\n",
    "time.sleep(2)"
   ]
  },
  {
   "cell_type": "code",
   "execution_count": 20,
   "id": "be9e7326",
   "metadata": {},
   "outputs": [],
   "source": [
    "#멜론 차트 클릭 후 2초 정지\n",
    "driver.find_element(By.CSS_SELECTOR, \".menu_bg.menu01\").click()\n",
    "time.sleep(2)"
   ]
  },
  {
   "cell_type": "code",
   "execution_count": 21,
   "id": "4690e99c",
   "metadata": {},
   "outputs": [],
   "source": [
    "#일간차트 클릭\n",
    "driver.find_element(By.CSS_SELECTOR, \".menu_chart.m2\").click()"
   ]
  },
  {
   "cell_type": "code",
   "execution_count": 22,
   "id": "dbd4f6d6",
   "metadata": {},
   "outputs": [],
   "source": [
    "import re"
   ]
  },
  {
   "cell_type": "code",
   "execution_count": 23,
   "id": "32a3722a",
   "metadata": {},
   "outputs": [],
   "source": [
    "title= driver.find_elements(By.CLASS_NAME, \"ellipsis.rank01\")\n",
    "\n",
    "title2=[]\n",
    "for i in title:\n",
    "    title2.append(i.text)\n",
    "\n",
    "del title2[101:]"
   ]
  },
  {
   "cell_type": "code",
   "execution_count": 24,
   "id": "8a67a2aa",
   "metadata": {},
   "outputs": [],
   "source": [
    "singer=driver.find_elements(By.CLASS_NAME, \"ellipsis.rank02\")\n",
    "singer2=[]\n",
    "for i in singer:\n",
    "    singer2.append(i.text)\n",
    "    \n",
    "del singer2[101:]"
   ]
  },
  {
   "cell_type": "code",
   "execution_count": 25,
   "id": "48a04cef",
   "metadata": {},
   "outputs": [],
   "source": [
    "songTagList = driver.find_elements(By.XPATH, '/html/body/div/div[3]/div/div/div[4]/form/div/table/tbody/tr')\n",
    "\n",
    "number=[]\n",
    "for i in songTagList:\n",
    "    number.append(i.get_attribute('data-song-no'))"
   ]
  },
  {
   "cell_type": "markdown",
   "id": "f9503f05",
   "metadata": {},
   "source": [
    "해결해야 됐던 문제\n",
    "1. 윗 부분에서 LYRIC 크롤링이 또 되지 않음\n",
    "-> 수정된 html문으로 재정비\n"
   ]
  },
  {
   "cell_type": "code",
   "execution_count": 26,
   "id": "80c76fc7",
   "metadata": {},
   "outputs": [],
   "source": [
    "LYRIC=[]\n",
    "LYRIC2=[]\n",
    "\n",
    "for i in number:\n",
    "    driver.get(\"https://www.melon.com/song/detail.htm?songId=\"+ i)\n",
    "    lyric=driver.find_element(By.CLASS_NAME, \"lyric\")\n",
    "    LYRIC.append(lyric.text)\n",
    "    "
   ]
  },
  {
   "cell_type": "code",
   "execution_count": 19,
   "id": "64592591",
   "metadata": {},
   "outputs": [
    {
     "data": {
      "text/plain": [
       "[]"
      ]
     },
     "execution_count": 19,
     "metadata": {},
     "output_type": "execute_result"
    }
   ],
   "source": [
    "LYRIC"
   ]
  },
  {
   "cell_type": "code",
   "execution_count": 18,
   "id": "8d8ee763",
   "metadata": {},
   "outputs": [],
   "source": [
    "LYRIC=[]\n",
    "for i in LYRIC:\n",
    "    LYRIC2.append(i.replace(\"\\n\",\"\"))\n",
    "    \n",
    "  # 줄 개행 삭제 필요시 사용, 근데 토큰화 과정에서 줄 개행 문자 생략됨\n",
    "  "
   ]
  },
  {
   "cell_type": "code",
   "execution_count": 17,
   "id": "99990b00",
   "metadata": {},
   "outputs": [],
   "source": [
    "df1 = pd.DataFrame(data=title2, columns=[\"제목\"])\n",
    "df2 = pd.DataFrame(data=singer2, columns=[\"가수\"])\n",
    "df3 = pd.DataFrame(data=LYRIC, columns=[\"가사\"])\n",
    "\n",
    "\n",
    "result1 = pd.concat([df1, df2, df3], axis=1)\n",
    "result1.to_csv(\"멜론top100크롤링완성.csv\", encoding='utf-8')\n"
   ]
  },
  {
   "cell_type": "markdown",
   "id": "966f9029",
   "metadata": {},
   "source": [
    "ValueError: All arrays must be of the same length\n",
    "가 났습니다..하하하하\n",
    "\n",
    "df병합(merge를 사용하면 안되서 concat을 사용함, axis는 좌우(열방향)으로 이어붙이기 위함)\n",
    "https://yganalyst.github.io/data_handling/Pd_12/ 참조\n",
    "\n",
    "ValueError: No engine for filetype: 'csv'\n",
    "기존에 했던 건 엑셀이라 깨짐 현상 있어 csv버전으로 재시도, to_excel->to_csv"
   ]
  },
  {
   "cell_type": "code",
   "execution_count": 31,
   "id": "c171ee72",
   "metadata": {},
   "outputs": [],
   "source": [
    "df = pd.read_csv('멜론top100크롤링완성.csv', sep = \",\", engine='python', encoding=\"utf-8\")\n",
    "df.dropna(axis=0)\n",
    "df.to_csv('melontop100.tsv', sep='\\t', encoding =\"utf-8\", index=False)"
   ]
  }
 ],
 "metadata": {
  "kernelspec": {
   "display_name": "suwah",
   "language": "python",
   "name": "suwah"
  },
  "language_info": {
   "codemirror_mode": {
    "name": "ipython",
    "version": 3
   },
   "file_extension": ".py",
   "mimetype": "text/x-python",
   "name": "python",
   "nbconvert_exporter": "python",
   "pygments_lexer": "ipython3",
   "version": "3.7.13"
  }
 },
 "nbformat": 4,
 "nbformat_minor": 5
}
